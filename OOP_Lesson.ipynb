{
 "cells": [
  {
   "cell_type": "markdown",
   "metadata": {},
   "source": [
    "# Class and Instance"
   ]
  },
  {
   "cell_type": "code",
   "execution_count": 2,
   "metadata": {},
   "outputs": [
    {
     "name": "stdout",
     "output_type": "stream",
     "text": [
      "A 300 2020\n",
      "My vehicle name is A\n"
     ]
    }
   ],
   "source": [
    "class Vehicle:\n",
    "    \n",
    "    def __init__(self, name, weight, release_year):\n",
    "        self.name = name\n",
    "        self.weight = weight\n",
    "        self.release_year = release_year\n",
    "        \n",
    "    def output_name(self):\n",
    "        return 'My vehicle name is {}'.format(self.name)\n",
    "    \n",
    "veh_1 = Vehicle('A', 300, 2020)\n",
    "\n",
    "print(veh_1.name, veh_1.weight, veh_1.release_year)\n",
    "print(veh_1.output_name())\n",
    "        "
   ]
  },
  {
   "cell_type": "markdown",
   "metadata": {},
   "source": [
    "# Class variables"
   ]
  },
  {
   "cell_type": "code",
   "execution_count": 3,
   "metadata": {},
   "outputs": [
    {
     "name": "stdout",
     "output_type": "stream",
     "text": [
      "2\n",
      "2\n",
      "2\n"
     ]
    }
   ],
   "source": [
    "class Vehicle:\n",
    "    \n",
    "    total = 0\n",
    "    \n",
    "    def __init__(self, name, weight, release_year):\n",
    "        self.name = name\n",
    "        self.weight = weight\n",
    "        self.release_year = release_year\n",
    "        Vehicle.total += 1\n",
    "        \n",
    "veh_1 = Vehicle('A', 300, 2020)\n",
    "veh_2 = Vehicle('B', 400, 2018)\n",
    "\n",
    "print(Vehicle.total)\n",
    "print(veh_1.total)\n",
    "print(veh_2.total)"
   ]
  },
  {
   "cell_type": "code",
   "execution_count": 4,
   "metadata": {},
   "outputs": [
    {
     "name": "stdout",
     "output_type": "stream",
     "text": [
      "{'name': 'A', 'weight': 300, 'release_year': 2020}\n",
      "{'name': 'B', 'weight': 400, 'release_year': 2018}\n"
     ]
    }
   ],
   "source": [
    "print(veh_1.__dict__)\n",
    "print(veh_2.__dict__)"
   ]
  },
  {
   "cell_type": "code",
   "execution_count": 5,
   "metadata": {},
   "outputs": [],
   "source": [
    "veh_1.total = 0.5"
   ]
  },
  {
   "cell_type": "code",
   "execution_count": 6,
   "metadata": {},
   "outputs": [
    {
     "name": "stdout",
     "output_type": "stream",
     "text": [
      "{'name': 'A', 'weight': 300, 'release_year': 2020, 'total': 0.5}\n",
      "{'name': 'B', 'weight': 400, 'release_year': 2018}\n"
     ]
    }
   ],
   "source": [
    "print(veh_1.__dict__)\n",
    "print(veh_2.__dict__)"
   ]
  },
  {
   "cell_type": "code",
   "execution_count": 7,
   "metadata": {},
   "outputs": [
    {
     "name": "stdout",
     "output_type": "stream",
     "text": [
      "2\n",
      "0.5\n",
      "2\n"
     ]
    }
   ],
   "source": [
    "print(Vehicle.total)\n",
    "print(veh_1.total)\n",
    "print(veh_2.total)"
   ]
  },
  {
   "cell_type": "markdown",
   "metadata": {},
   "source": [
    "# Classmethod and Staticmethod"
   ]
  },
  {
   "cell_type": "code",
   "execution_count": 12,
   "metadata": {},
   "outputs": [
    {
     "name": "stdout",
     "output_type": "stream",
     "text": [
      "4\n",
      "3\n",
      "6\n",
      "8\n"
     ]
    }
   ],
   "source": [
    "class Vehicle:\n",
    "    \n",
    "    total = 0\n",
    "    num_of_wheels = 4\n",
    "    \n",
    "    def __init__(self, name, weight, release_year):\n",
    "        self.name = name\n",
    "        self.weight = weight\n",
    "        self.release_year = release_year\n",
    "        Vehicle.total += 1\n",
    "        \n",
    "    @classmethod\n",
    "    def set_num_of_wheels(cls, wheels):\n",
    "        cls.num_of_wheels = wheels\n",
    "        \n",
    "    @staticmethod\n",
    "    def mul_two(value):\n",
    "        return value * 2\n",
    "        \n",
    "veh_1 = Vehicle('A', 300, 2020)\n",
    "\n",
    "print(Vehicle.num_of_wheels)\n",
    "Vehicle.set_num_of_wheels(3)\n",
    "print(Vehicle.num_of_wheels)\n",
    "print(Vehicle.mul_two(3))\n",
    "print(veh_1.mul_two(4))"
   ]
  },
  {
   "cell_type": "markdown",
   "metadata": {},
   "source": [
    "# Inheritance"
   ]
  },
  {
   "cell_type": "code",
   "execution_count": 6,
   "metadata": {},
   "outputs": [
    {
     "name": "stdout",
     "output_type": "stream",
     "text": [
      "Driving\n",
      "Braking\n",
      "Regenerate battery energy\n",
      "Autonomous driving\n"
     ]
    }
   ],
   "source": [
    "class Vehicle:\n",
    "    \n",
    "    def drive(self):\n",
    "        print('Driving')\n",
    "        \n",
    "    def brake(self):\n",
    "        print('Braking')\n",
    "        \n",
    "        \n",
    "class EV(Vehicle):\n",
    "    \n",
    "    def regeration(self):\n",
    "        print('Regenerate battery energy')\n",
    "        \n",
    "        \n",
    "class AutonomousEV(EV):\n",
    "    \n",
    "    def autonomous(self):\n",
    "        print('Autonomous driving')\n",
    "        \n",
    "\n",
    "auto_ev = AutonomousEV()\n",
    "\n",
    "auto_ev.drive()\n",
    "auto_ev.brake()\n",
    "auto_ev.regeration()\n",
    "auto_ev.autonomous()"
   ]
  },
  {
   "cell_type": "code",
   "execution_count": 8,
   "metadata": {},
   "outputs": [
    {
     "name": "stdout",
     "output_type": "stream",
     "text": [
      "C 300 2020 400\n"
     ]
    }
   ],
   "source": [
    "class Vehicle:\n",
    "    \n",
    "    def __init__(self, name, weight, release_year):\n",
    "        self.name = name\n",
    "        self.weight = weight\n",
    "        self.release_year = release_year\n",
    "        \n",
    "        \n",
    "class EV(Vehicle):\n",
    "    \n",
    "    def __init__(self, name, weight, release_year, battery_capacity):\n",
    "        super().__init__(name, weight, release_year)\n",
    "        self.battery_capacity = battery_capacity\n",
    "        \n",
    "\n",
    "ev_1 = EV('C', 300, 2020, 400)\n",
    "\n",
    "print(ev_1.name, ev_1.weight, ev_1.release_year, ev_1.battery_capacity)"
   ]
  },
  {
   "cell_type": "markdown",
   "metadata": {},
   "source": [
    "# Multiple inheritance"
   ]
  },
  {
   "cell_type": "code",
   "execution_count": 18,
   "metadata": {},
   "outputs": [
    {
     "name": "stdout",
     "output_type": "stream",
     "text": [
      "init in developer\n",
      "init in PM\n",
      "init in project\n",
      "Task completed by developer\n",
      "Task completed by PM\n"
     ]
    }
   ],
   "source": [
    "class Developer:\n",
    "    \n",
    "    def __init__(self):\n",
    "        print('init in developer')\n",
    "        \n",
    "    def complete_task(self):\n",
    "        print('Task completed by developer')\n",
    "        \n",
    "        \n",
    "class ProjectManager:\n",
    "    \n",
    "    def __init__(self):\n",
    "        print('init in PM')\n",
    "        \n",
    "    def complete_task(self):\n",
    "        print('Task completed by PM')\n",
    "        \n",
    "        \n",
    "class Project(ProjectManager, Developer):\n",
    "    \n",
    "    def __init__(self):\n",
    "        Developer.__init__(self)\n",
    "        ProjectManager.__init__(self)\n",
    "        print('init in project')\n",
    "        \n",
    "    def complete(self):\n",
    "        Developer.complete_task(self)\n",
    "        ProjectManager.complete_task(self)\n",
    "        \n",
    "\n",
    "project = Project()\n",
    "project.complete()"
   ]
  },
  {
   "cell_type": "markdown",
   "metadata": {},
   "source": [
    "# Special method"
   ]
  },
  {
   "cell_type": "code",
   "execution_count": 21,
   "metadata": {},
   "outputs": [
    {
     "name": "stdout",
     "output_type": "stream",
     "text": [
      "ABC was released in 2020\n",
      "ABC was released in 2020\n",
      "3\n"
     ]
    }
   ],
   "source": [
    "class Vehicle:\n",
    "    \n",
    "    def __init__(self, name, release_year):\n",
    "        self.name = name\n",
    "        self.release_year = release_year\n",
    "        \n",
    "    def __str__(self):\n",
    "        return '{} was released in {}'.format(self.name, self.release_year)\n",
    "    \n",
    "    def __len__(self):\n",
    "        return len(self.name)\n",
    "    \n",
    "\n",
    "veh_1 = Vehicle('ABC', 2020)\n",
    "\n",
    "print(str(veh_1))\n",
    "print(veh_1)\n",
    "print(len(veh_1))"
   ]
  },
  {
   "cell_type": "markdown",
   "metadata": {},
   "source": [
    "# Decorator"
   ]
  },
  {
   "cell_type": "code",
   "execution_count": 27,
   "metadata": {},
   "outputs": [
    {
     "name": "stdout",
     "output_type": "stream",
     "text": [
      "My vehicle name is A\n",
      "A is 300 [kg] and released in 2020\n",
      "75.0 [kg]\n",
      "50.0 [kg]\n",
      "0.0 [kg]\n"
     ]
    }
   ],
   "source": [
    "class Vehicle:\n",
    "    \n",
    "    num_of_wheels = 4\n",
    "    \n",
    "    def __init__(self, name, weight, release_year):\n",
    "        self.name = name\n",
    "        self.weight = weight\n",
    "        self.release_year = release_year\n",
    "        \n",
    "    def output_name(self):\n",
    "        return 'My vehicle name is {}'.format(self.name)\n",
    "    \n",
    "    @property\n",
    "    def full_info(self):\n",
    "        return '{} is {} [kg] and released in {}'.format(self.name, self.weight, self.release_year)\n",
    "    \n",
    "    @property\n",
    "    def weight_per_wheel(self):\n",
    "        return '{} [kg]'.format(self.weight / Vehicle.num_of_wheels)\n",
    "    \n",
    "    @weight_per_wheel.setter\n",
    "    def weight_per_wheel(self, value):\n",
    "        if not value:\n",
    "            value = 0\n",
    "        self.weight = value * Vehicle.num_of_wheels\n",
    "    \n",
    "    \n",
    "veh_1 = Vehicle('A', 300, 2020)\n",
    "print(veh_1.output_name())\n",
    "print(veh_1.full_info)\n",
    "print(veh_1.weight_per_wheel)\n",
    "veh_1.weight_per_wheel = 50\n",
    "print(veh_1.weight_per_wheel)\n",
    "veh_1.weight_per_wheel = None\n",
    "print(veh_1.weight_per_wheel)"
   ]
  },
  {
   "cell_type": "markdown",
   "metadata": {},
   "source": [
    "# Inner class"
   ]
  },
  {
   "cell_type": "code",
   "execution_count": 30,
   "metadata": {},
   "outputs": [
    {
     "name": "stdout",
     "output_type": "stream",
     "text": [
      "A\n",
      "800 300\n",
      "700 300\n"
     ]
    }
   ],
   "source": [
    "class Vehicle:\n",
    "    \n",
    "    class Tire:\n",
    "        \n",
    "        def __init__(self):\n",
    "            self.diameter = 800\n",
    "            self.width = 300\n",
    "            \n",
    "        def output_info(self):\n",
    "            print(self.diameter, self.width)\n",
    "            \n",
    "    def __init__(self, name):\n",
    "        self.name = name\n",
    "        self.tire = self.Tire()\n",
    "        \n",
    "    def output_info(self):\n",
    "        print(self.name)\n",
    "        \n",
    "\n",
    "veh_1 = Vehicle('A')\n",
    "veh_1.output_info()\n",
    "veh_1.tire.output_info()\n",
    "veh_1.tire.diameter = 700\n",
    "veh_1.tire.output_info()"
   ]
  },
  {
   "cell_type": "markdown",
   "metadata": {},
   "source": [
    "# Override (Method)"
   ]
  },
  {
   "cell_type": "code",
   "execution_count": 33,
   "metadata": {},
   "outputs": [
    {
     "data": {
      "text/plain": [
       "'C has battery capacity of 400'"
      ]
     },
     "execution_count": 33,
     "metadata": {},
     "output_type": "execute_result"
    }
   ],
   "source": [
    "class Vehicle:\n",
    "    \n",
    "    def __init__(self, name):\n",
    "        self.name = name\n",
    "        \n",
    "    def output_name(self):\n",
    "        return 'My vehicle name is {}'.format(self.name)\n",
    "    \n",
    "    \n",
    "class EV(Vehicle):\n",
    "    \n",
    "    def __init__(self, name, battery_capacity):\n",
    "        super().__init__(name)\n",
    "        self.battery_capacity = battery_capacity\n",
    "        \n",
    "    def output_name(self):\n",
    "        return '{} has battery capacity of {}'.format(self.name, self.battery_capacity)\n",
    "        \n",
    "\n",
    "ev_1 = EV('C', 400)\n",
    "ev_1.output_name()       "
   ]
  },
  {
   "cell_type": "markdown",
   "metadata": {},
   "source": [
    "# Mixins"
   ]
  },
  {
   "cell_type": "code",
   "execution_count": 35,
   "metadata": {},
   "outputs": [
    {
     "name": "stdout",
     "output_type": "stream",
     "text": [
      "Vehicle A 50 [km/h] 1000 [mm] 25.0 [degree]\n",
      "Premium B 150 [km/h] 900 [mm] 21.0 [degree]\n"
     ]
    }
   ],
   "source": [
    "class Vehicle:\n",
    "    \n",
    "    def __init__(self, name, vehicle_height):\n",
    "        self.name = name\n",
    "        self.speed = 0\n",
    "        self.vehicle_height = vehicle_height\n",
    "        self.room_temp = 25.0\n",
    "        \n",
    "    def drive(self):\n",
    "        self.speed = 50\n",
    "        \n",
    "    def output_spec(self):\n",
    "        return 'Vehicle {} {} [km/h] {} [mm] {} [degree]'.format(self.name, self.speed,\\\n",
    "                                                                self.vehicle_height, self.room_temp)\n",
    "    \n",
    "class BoostMixin:\n",
    "     \n",
    "    def boost(self):\n",
    "        self.speed += 100\n",
    "        \n",
    "\n",
    "class HeightAdjusterMixin:\n",
    "    \n",
    "    def height_up(self):\n",
    "        self.vehicle_height += 50\n",
    "        \n",
    "    def height_down(self):\n",
    "        self.vehicle_height -= 50\n",
    "        \n",
    "\n",
    "class AirConditionerMixin:\n",
    "    \n",
    "    def warm_up(self):\n",
    "        self.room_temp += 4\n",
    "        \n",
    "    def cool_down(self):\n",
    "        self.room_temp -= 4\n",
    "        \n",
    "        \n",
    "class PremiumVehicle(Vehicle, BoostMixin, HeightAdjusterMixin, AirConditionerMixin):\n",
    "    \n",
    "    def output_spec(self):\n",
    "        return 'Premium {} {} [km/h] {} [mm] {} [degree]'.format(self.name, self.speed,\\\n",
    "                                                                self.vehicle_height, self.room_temp)\n",
    "    \n",
    "\n",
    "veh_1 = Vehicle('A', 1000)\n",
    "veh_1.drive()\n",
    "print(veh_1.output_spec())\n",
    "\n",
    "prem_veh = PremiumVehicle('B', 1000)\n",
    "prem_veh.drive()\n",
    "prem_veh.boost()\n",
    "prem_veh.cool_down()\n",
    "prem_veh.height_down()\n",
    "prem_veh.height_down()\n",
    "print(prem_veh.output_spec())"
   ]
  },
  {
   "cell_type": "markdown",
   "metadata": {},
   "source": [
    "# Completed. Thank you !"
   ]
  },
  {
   "cell_type": "code",
   "execution_count": null,
   "metadata": {},
   "outputs": [],
   "source": []
  }
 ],
 "metadata": {
  "kernelspec": {
   "display_name": "Python 3",
   "language": "python",
   "name": "python3"
  },
  "language_info": {
   "codemirror_mode": {
    "name": "ipython",
    "version": 3
   },
   "file_extension": ".py",
   "mimetype": "text/x-python",
   "name": "python",
   "nbconvert_exporter": "python",
   "pygments_lexer": "ipython3",
   "version": "3.8.5"
  }
 },
 "nbformat": 4,
 "nbformat_minor": 4
}
