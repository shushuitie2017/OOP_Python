{
 "cells": [
  {
   "cell_type": "markdown",
   "metadata": {},
   "source": [
    "# Class Instance"
   ]
  },
  {
   "cell_type": "code",
   "execution_count": 1,
   "metadata": {},
   "outputs": [
    {
     "name": "stdout",
     "output_type": "stream",
     "text": [
      "A 300 2020\n",
      "B 400 2018\n",
      "A\n",
      "B\n"
     ]
    }
   ],
   "source": [
    "class Vehicle:\n",
    "\n",
    "    def __init__(self, name, weight, release_year):\n",
    "        self.name = name\n",
    "        self.weight = weight\n",
    "        self.release_year = release_year\n",
    "\n",
    "    def print_name(self):\n",
    "        return '{}'.format(self.name)\n",
    "\n",
    "\n",
    "veh_1 = Vehicle('A', 300, 2020)\n",
    "veh_2 = Vehicle('B', 400, 2018)\n",
    "\n",
    "print(veh_1.name, veh_1.weight, veh_1.release_year)\n",
    "print(veh_2.name, veh_2.weight, veh_2.release_year)\n",
    "print(veh_1.print_name())\n",
    "print(veh_2.print_name())"
   ]
  },
  {
   "cell_type": "markdown",
   "metadata": {},
   "source": [
    "# Class variables"
   ]
  },
  {
   "cell_type": "code",
   "execution_count": 2,
   "metadata": {},
   "outputs": [
    {
     "name": "stdout",
     "output_type": "stream",
     "text": [
      "2\n",
      "2\n",
      "2\n"
     ]
    }
   ],
   "source": [
    "class Vehicle:\n",
    "    \n",
    "    total = 0\n",
    "\n",
    "    def __init__(self, name, weight, release_year):\n",
    "        self.name = name\n",
    "        self.weight = weight\n",
    "        self.release_year = release_year\n",
    "        Vehicle.total += 1\n",
    "\n",
    "    def print_name(self):\n",
    "        return '{}'.format(self.name)\n",
    "\n",
    "\n",
    "veh_1 = Vehicle('A', 300, 2020)\n",
    "veh_2 = Vehicle('B', 400, 2018)\n",
    "\n",
    "print(Vehicle.total)\n",
    "print(veh_1.total)\n",
    "print(veh_2.total)"
   ]
  },
  {
   "cell_type": "code",
   "execution_count": 3,
   "metadata": {},
   "outputs": [
    {
     "name": "stdout",
     "output_type": "stream",
     "text": [
      "{'name': 'A', 'weight': 300, 'release_year': 2020}\n",
      "{'name': 'B', 'weight': 400, 'release_year': 2018}\n"
     ]
    }
   ],
   "source": [
    "print(veh_1.__dict__)\n",
    "print(veh_2.__dict__)"
   ]
  },
  {
   "cell_type": "code",
   "execution_count": 4,
   "metadata": {},
   "outputs": [],
   "source": [
    "veh_1.total = 0.5"
   ]
  },
  {
   "cell_type": "code",
   "execution_count": 5,
   "metadata": {},
   "outputs": [
    {
     "name": "stdout",
     "output_type": "stream",
     "text": [
      "{'name': 'A', 'weight': 300, 'release_year': 2020, 'total': 0.5}\n",
      "{'name': 'B', 'weight': 400, 'release_year': 2018}\n"
     ]
    }
   ],
   "source": [
    "print(veh_1.__dict__)\n",
    "print(veh_2.__dict__)"
   ]
  },
  {
   "cell_type": "markdown",
   "metadata": {},
   "source": [
    "# Classmethods"
   ]
  },
  {
   "cell_type": "code",
   "execution_count": 8,
   "metadata": {},
   "outputs": [
    {
     "name": "stdout",
     "output_type": "stream",
     "text": [
      "3\n",
      "3\n",
      "3\n",
      "Here is staticmethod\n",
      "6\n",
      "Here is staticmethod\n",
      "8\n"
     ]
    }
   ],
   "source": [
    "class Vehicle:\n",
    "\n",
    "    total = 0\n",
    "    num_of_wheels = 4\n",
    "\n",
    "    def __init__(self, name, weight, release_year):\n",
    "        self.name = name\n",
    "        self.weight = weight\n",
    "        self.release_year = release_year\n",
    "        Vehicle.total += 1\n",
    "\n",
    "    def print_name(self):\n",
    "        return '{}'.format(self.name)\n",
    "\n",
    "    @classmethod\n",
    "    def set_num_of_wheels(cls, wheels):\n",
    "        cls.num_of_wheels = wheels\n",
    "        \n",
    "    @staticmethod\n",
    "    def mul_two(value):\n",
    "        print(\"Here is staticmethod\")\n",
    "        return value*2\n",
    "\n",
    "\n",
    "veh_1 = Vehicle('A', 300, 2020)\n",
    "veh_2 = Vehicle('B', 400, 2018)\n",
    "\n",
    "Vehicle.set_num_of_wheels(3)\n",
    "\n",
    "print(Vehicle.num_of_wheels)\n",
    "print(veh_1.num_of_wheels)\n",
    "print(veh_2.num_of_wheels)\n",
    "print(Vehicle.mul_two(3))\n",
    "print(veh_1.mul_two(4))"
   ]
  },
  {
   "cell_type": "markdown",
   "metadata": {},
   "source": [
    "# Inheritance"
   ]
  },
  {
   "cell_type": "code",
   "execution_count": 9,
   "metadata": {},
   "outputs": [
    {
     "name": "stdout",
     "output_type": "stream",
     "text": [
      "Driving\n",
      "Braking\n",
      "Driving\n",
      "Braking\n",
      "Regenerate battery energy\n",
      "Autonomous driving\n"
     ]
    }
   ],
   "source": [
    "class Vehicle:\n",
    "    \n",
    "    def drive(self):\n",
    "        print(\"Driving\")\n",
    "        \n",
    "    def brake(self):\n",
    "        print(\"Braking\")\n",
    "        \n",
    "\n",
    "class EV(Vehicle):\n",
    "    \n",
    "    def regeneration(self):\n",
    "        print(\"Regenerate battery energy\")\n",
    "\n",
    "        \n",
    "class AutonomousEV(EV):\n",
    "    \n",
    "    def autonomous(self):\n",
    "        print(\"Autonomous driving\")\n",
    "\n",
    "\n",
    "veh_1 = Vehicle()\n",
    "veh_1.drive()\n",
    "veh_1.brake()\n",
    "auto_ev_1 = AutonomousEV()\n",
    "auto_ev_1.drive()\n",
    "auto_ev_1.brake()\n",
    "auto_ev_1.regeneration()\n",
    "auto_ev_1.autonomous()"
   ]
  },
  {
   "cell_type": "code",
   "execution_count": 10,
   "metadata": {},
   "outputs": [
    {
     "name": "stdout",
     "output_type": "stream",
     "text": [
      "4\n",
      "A 300 2020\n",
      "B 400 2018\n",
      "C 300 2020 400\n",
      "D 400 2018 400\n"
     ]
    }
   ],
   "source": [
    "class Vehicle:\n",
    "\n",
    "    total = 0\n",
    "    num_of_wheels = 4\n",
    "\n",
    "    def __init__(self, name, weight, release_year):\n",
    "        self.name = name\n",
    "        self.weight = weight\n",
    "        self.release_year = release_year\n",
    "        Vehicle.total += 1\n",
    "\n",
    "    def print_name(self):\n",
    "        return '{}'.format(self.name)\n",
    "\n",
    "\n",
    "class EV(Vehicle):\n",
    "    \n",
    "    def __init__(self, name, weight, release_year, battery_capacity):\n",
    "        super().__init__(name, weight, release_year)\n",
    "        self.battery_capacity = battery_capacity\n",
    "\n",
    "\n",
    "veh_1 = Vehicle('A', 300, 2020)\n",
    "veh_2 = Vehicle('B', 400, 2018)\n",
    "ev_1 = EV('C', 300, 2020, 400)\n",
    "ev_2 = EV('D', 400, 2018, 400)\n",
    "\n",
    "print(Vehicle.total)\n",
    "print(veh_1.name, veh_1.weight, veh_1.release_year)\n",
    "print(veh_2.name, veh_2.weight, veh_2.release_year)\n",
    "print(ev_1.name, ev_1.weight, ev_1.release_year,ev_1.battery_capacity)\n",
    "print(ev_2.name, ev_2.weight, ev_2.release_year,ev_2.battery_capacity)"
   ]
  },
  {
   "cell_type": "code",
   "execution_count": 6,
   "metadata": {},
   "outputs": [
    {
     "name": "stdout",
     "output_type": "stream",
     "text": [
      "init in Developer\n",
      "Task complete by developer\n",
      "Task complete by developer\n",
      "Task complete by PM\n"
     ]
    }
   ],
   "source": [
    "class Developer:\n",
    "    \n",
    "    def __init__(self):\n",
    "        print(\"init in Developer\")\n",
    "        \n",
    "    def complete_task(self):\n",
    "        print(\"Task complete by developer\")\n",
    "        \n",
    "        \n",
    "class ProjectManager:\n",
    "    \n",
    "    def __init__(self):\n",
    "        print(\"init in PM\")\n",
    "        \n",
    "    def complete_task(self):\n",
    "        print(\"Task complete by PM\")\n",
    "        \n",
    "\n",
    "class Project(Developer, ProjectManager):\n",
    "    \n",
    "    def __init__(self):\n",
    "        super().__init__()\n",
    "        #print(\"init in Project\")\n",
    "        \n",
    "    def complete(self):\n",
    "        super().complete_task()\n",
    "        Developer.complete_task(self)\n",
    "        ProjectManager.complete_task(self)\n",
    "        \n",
    "        \n",
    "project_1 = Project()\n",
    "project_1.complete()"
   ]
  },
  {
   "cell_type": "markdown",
   "metadata": {},
   "source": [
    "# Special method"
   ]
  },
  {
   "cell_type": "code",
   "execution_count": 12,
   "metadata": {},
   "outputs": [
    {
     "name": "stdout",
     "output_type": "stream",
     "text": [
      "A released in 2020\n",
      "A released in 2020\n",
      "1\n"
     ]
    }
   ],
   "source": [
    "class Vehicle:\n",
    "\n",
    "    total = 0\n",
    "    num_of_wheels = 4\n",
    "\n",
    "    def __init__(self, name, weight, release_year):\n",
    "        self.name = name\n",
    "        self.weight = weight\n",
    "        self.release_year = release_year\n",
    "        Vehicle.total += 1\n",
    "\n",
    "    def __str__(self):\n",
    "        return '{} released in {}'.format(self.name, self.release_year)\n",
    "\n",
    "    def __len__(self):\n",
    "        return len(self.name)\n",
    "\n",
    "\n",
    "veh_1 = Vehicle('A', 300, 2020)\n",
    "veh_2 = Vehicle('B', 400, 2018)\n",
    "\n",
    "print(str(veh_1))\n",
    "print(veh_1)\n",
    "print(len(veh_1))"
   ]
  },
  {
   "cell_type": "markdown",
   "metadata": {},
   "source": [
    "# Decorator"
   ]
  },
  {
   "cell_type": "code",
   "execution_count": 13,
   "metadata": {},
   "outputs": [
    {
     "name": "stdout",
     "output_type": "stream",
     "text": [
      "A is 300 [kg] and released in 2020\n",
      "75.0 [kg]\n",
      "50.0 [kg]\n",
      "200\n",
      "0.0 [kg]\n",
      "0\n"
     ]
    }
   ],
   "source": [
    "class Vehicle:\n",
    "\n",
    "    total = 0\n",
    "    num_of_wheels = 4\n",
    "\n",
    "    def __init__(self, name, weight, release_year):\n",
    "        self.name = name\n",
    "        self.weight = weight\n",
    "        self.release_year = release_year\n",
    "        Vehicle.total += 1\n",
    "\n",
    "    @property\n",
    "    def full_info(self):\n",
    "        return '{} is {} [kg] and released in {}'.format(self.name, self.weight, self.release_year)\n",
    "    \n",
    "    @property\n",
    "    def weight_per_wheel(self):\n",
    "        return '{} [kg]'.format(self.weight/Vehicle.num_of_wheels)\n",
    "    \n",
    "    @weight_per_wheel.setter\n",
    "    def weight_per_wheel(self, value):\n",
    "        if not value:\n",
    "            value = 0\n",
    "        self.weight = value*Vehicle.num_of_wheels\n",
    "        \n",
    "    \n",
    "veh_1 = Vehicle('A', 300, 2020)\n",
    "print(veh_1.full_info)\n",
    "print(veh_1.weight_per_wheel)\n",
    "veh_1.weight_per_wheel = 50\n",
    "print(veh_1.weight_per_wheel)\n",
    "print(veh_1.weight)\n",
    "veh_1.weight_per_wheel = None\n",
    "print(veh_1.weight_per_wheel)\n",
    "print(veh_1.weight)"
   ]
  },
  {
   "cell_type": "markdown",
   "metadata": {},
   "source": [
    "# Inner class"
   ]
  },
  {
   "cell_type": "code",
   "execution_count": 14,
   "metadata": {},
   "outputs": [
    {
     "name": "stdout",
     "output_type": "stream",
     "text": [
      "A 300 2020\n",
      "800 300\n",
      "700 300\n"
     ]
    }
   ],
   "source": [
    "class Vehicle:\n",
    "    class Tire:\n",
    "        \n",
    "        def __init__(self):\n",
    "            self.diameter = 800\n",
    "            self.width = 300\n",
    "            \n",
    "        def print_info(self):\n",
    "            print(self.diameter, self.width)\n",
    "            \n",
    "    def __init__(self, name, weight, release_year):\n",
    "        self.name = name\n",
    "        self.weight = weight\n",
    "        self.release_year = release_year\n",
    "        self.tire = self.Tire()\n",
    "    \n",
    "    def print_info(self):\n",
    "        print(self.name,self.weight,self.release_year)\n",
    "        \n",
    "        \n",
    "veh_1 = Vehicle('A', 300, 2020)\n",
    "veh_1.print_info()\n",
    "veh_1.tire.print_info()\n",
    "veh_1.tire.diameter = 700\n",
    "veh_1.tire.print_info()"
   ]
  },
  {
   "cell_type": "markdown",
   "metadata": {},
   "source": [
    "# Method overriding"
   ]
  },
  {
   "cell_type": "code",
   "execution_count": 15,
   "metadata": {},
   "outputs": [
    {
     "data": {
      "text/plain": [
       "'C has battery capacity of 400'"
      ]
     },
     "execution_count": 15,
     "metadata": {},
     "output_type": "execute_result"
    }
   ],
   "source": [
    "class Vehicle:\n",
    "\n",
    "    def __init__(self, name):\n",
    "        self.name = name\n",
    "\n",
    "    def print_name(self):\n",
    "        return '{}'.format(self.name)\n",
    "    \n",
    "    \n",
    "class EV(Vehicle):\n",
    "    \n",
    "    def __init__(self, name, battery_capacity):\n",
    "        super().__init__(name)\n",
    "        self.battery_capacity = battery_capacity\n",
    "        \n",
    "    def print_name(self):\n",
    "        return '{} has battery capacity of {}'.format(self.name, self.battery_capacity)\n",
    "    \n",
    "        \n",
    "ev_1 = EV('C', 400)\n",
    "ev_1.print_name()"
   ]
  },
  {
   "cell_type": "markdown",
   "metadata": {},
   "source": [
    "# Mixin"
   ]
  },
  {
   "cell_type": "code",
   "execution_count": 16,
   "metadata": {},
   "outputs": [
    {
     "name": "stdout",
     "output_type": "stream",
     "text": [
      "Vehicle A 50 [km/h] 1000 [mm] 25.0 [degree]\n",
      "Premium B 150 [km/h] 900 [mm] 21.0 [degree]\n",
      "Premium C 50 [km/h] 1200 [mm] 17.0 [degree]\n"
     ]
    }
   ],
   "source": [
    "class Vehicle:\n",
    "    \n",
    "    def __init__(self, name, vehicle_height):\n",
    "        self.name = name\n",
    "        self.speed = 0\n",
    "        self.vehicle_height = vehicle_height\n",
    "        self.room_temp = 25.0\n",
    "        \n",
    "    def drive(self):\n",
    "        self.speed = 50\n",
    "        \n",
    "    def show_spec(self):\n",
    "        return 'Vehicle {} {} [km/h] {} [mm] {} [degree]'.format(self.name, self.speed, self.vehicle_height, self.room_temp)\n",
    "\n",
    "\n",
    "    \n",
    "class BoostMixin:\n",
    "    \n",
    "    def boost(self):\n",
    "        self.speed += 100\n",
    "\n",
    "\n",
    "class HeightAdjusterMixin:\n",
    "    \n",
    "    def height_up(self):\n",
    "        self.vehicle_height += 50\n",
    "        \n",
    "    def height_down(self):\n",
    "        self.vehicle_height -= 50\n",
    "\n",
    "        \n",
    "class AirConditionerMixin:\n",
    "    \n",
    "    def warm_up(self):\n",
    "        self.room_temp += 4\n",
    "        \n",
    "    def cool_down(self):\n",
    "        self.room_temp -= 4\n",
    "\n",
    "        \n",
    "class PremiumVehicle(Vehicle, BoostMixin, HeightAdjusterMixin, AirConditionerMixin):\n",
    "    \n",
    "    def show_spec(self):\n",
    "        return 'Premium {} {} [km/h] {} [mm] {} [degree]'.format(self.name, self.speed, self.vehicle_height, self.room_temp)\n",
    "\n",
    "\n",
    "veh_1 = Vehicle('A',1000)\n",
    "veh_1.drive()\n",
    "print(veh_1.show_spec())\n",
    "    \n",
    "prem_veh_1 = PremiumVehicle('B',1000)\n",
    "prem_veh_1.show_spec()\n",
    "prem_veh_1.drive()\n",
    "prem_veh_1.boost()\n",
    "prem_veh_1.cool_down()\n",
    "prem_veh_1.height_down()\n",
    "prem_veh_1.height_down()\n",
    "print(prem_veh_1.show_spec())\n",
    "\n",
    "prem_veh_2 = PremiumVehicle('C',1000)\n",
    "prem_veh_2.show_spec()\n",
    "prem_veh_2.drive()\n",
    "prem_veh_2.cool_down()\n",
    "prem_veh_2.cool_down()\n",
    "prem_veh_2.height_up()\n",
    "prem_veh_2.height_up()\n",
    "prem_veh_2.height_up()\n",
    "prem_veh_2.height_up()\n",
    "print(prem_veh_2.show_spec())"
   ]
  },
  {
   "cell_type": "code",
   "execution_count": null,
   "metadata": {},
   "outputs": [],
   "source": []
  },
  {
   "cell_type": "code",
   "execution_count": null,
   "metadata": {},
   "outputs": [],
   "source": []
  },
  {
   "cell_type": "code",
   "execution_count": null,
   "metadata": {},
   "outputs": [],
   "source": []
  },
  {
   "cell_type": "code",
   "execution_count": null,
   "metadata": {},
   "outputs": [],
   "source": []
  },
  {
   "cell_type": "code",
   "execution_count": null,
   "metadata": {},
   "outputs": [],
   "source": []
  },
  {
   "cell_type": "code",
   "execution_count": null,
   "metadata": {},
   "outputs": [],
   "source": []
  },
  {
   "cell_type": "code",
   "execution_count": null,
   "metadata": {},
   "outputs": [],
   "source": []
  },
  {
   "cell_type": "code",
   "execution_count": null,
   "metadata": {},
   "outputs": [],
   "source": []
  },
  {
   "cell_type": "code",
   "execution_count": null,
   "metadata": {},
   "outputs": [],
   "source": []
  },
  {
   "cell_type": "code",
   "execution_count": null,
   "metadata": {},
   "outputs": [],
   "source": []
  },
  {
   "cell_type": "code",
   "execution_count": null,
   "metadata": {},
   "outputs": [],
   "source": []
  }
 ],
 "metadata": {
  "kernelspec": {
   "display_name": "Python 3",
   "language": "python",
   "name": "python3"
  },
  "language_info": {
   "codemirror_mode": {
    "name": "ipython",
    "version": 3
   },
   "file_extension": ".py",
   "mimetype": "text/x-python",
   "name": "python",
   "nbconvert_exporter": "python",
   "pygments_lexer": "ipython3",
   "version": "3.8.5"
  }
 },
 "nbformat": 4,
 "nbformat_minor": 4
}
